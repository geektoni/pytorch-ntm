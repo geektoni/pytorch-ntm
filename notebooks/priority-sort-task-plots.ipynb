{
 "cells": [
  {
   "cell_type": "markdown",
   "metadata": {
    "colab_type": "text",
    "id": "eqXfJ_vLGnvT"
   },
   "source": [
    "# Priority Sort Task Plots"
   ]
  },
  {
   "cell_type": "markdown",
   "metadata": {
    "colab_type": "text",
    "id": "lQpWZm9lCNiP"
   },
   "source": [
    "In order to run this on Colab, uncomment the following lines and run them into a cell:\n",
    "\n",
    "```bash\n",
    "%%bash\n",
    "cd ~\n",
    "git clone https://github.com/geektoni/pytorch-ntm\n",
    "cd pytorch-ntm\n",
    "git checkout GPU_support\n",
    "pip install -r requirements.txt\n",
    "pwd\n",
    "```"
   ]
  },
  {
   "cell_type": "code",
   "execution_count": 117,
   "metadata": {
    "colab": {},
    "colab_type": "code",
    "id": "EnxwzIOXGnvj"
   },
   "outputs": [],
   "source": [
    "import matplotlib.pyplot as plt\n",
    "import numpy as np\n",
    "import pandas as pd\n",
    "\n",
    "from glob import glob\n",
    "import json\n",
    "import os\n",
    "import sys\n",
    "sys.path.append(os.path.abspath(os.getcwd() + \"./../\"))\n",
    "\n",
    "batch_num = 50000\n",
    "seed = 1 #10\n",
    "seq_len = 4 #4\n",
    "seq_num_bits = 1 #1\n",
    "\n",
    "%matplotlib inline"
   ]
  },
  {
   "cell_type": "code",
   "execution_count": 118,
   "metadata": {
    "colab": {
     "base_uri": "https://localhost:8080/",
     "height": 35
    },
    "colab_type": "code",
    "id": "epmH0N-lGnwb",
    "outputId": "805d9e3b-0515-4fcd-9454-a82b48a98135"
   },
   "outputs": [
    {
     "data": {
      "text/plain": [
       "['./../results/priority-sort/priority-sort-task-10-batch-50000.json']"
      ]
     },
     "execution_count": 118,
     "metadata": {},
     "output_type": "execute_result"
    }
   ],
   "source": [
    "batch_num = 50000\n",
    "files = glob(\"./../results/priority-sort/priority-sort-task-{}-batch-{}.json\".format(seed, batch_num))\n",
    "files"
   ]
  },
  {
   "cell_type": "code",
   "execution_count": 119,
   "metadata": {
    "colab": {
     "base_uri": "https://localhost:8080/",
     "height": 53
    },
    "colab_type": "code",
    "id": "Eba-ByFZGnxI",
    "outputId": "24d9694d-047e-4900-ddaa-ad572d11cf47"
   },
   "outputs": [
    {
     "name": "stdout",
     "output_type": "stream",
     "text": [
      "1\n",
      "Training history (seed x metric x sequence) = (1, 3, 50000)\n"
     ]
    }
   ],
   "source": [
    "# Read the metrics from the .json files\n",
    "history = [json.loads(open(fname, \"rt\").read()) for fname in files]\n",
    "training = np.array([(x['cost'], x['loss'], x['seq_lengths']) for x in history])\n",
    "print(len(history))\n",
    "print(\"Training history (seed x metric x sequence) =\", training.shape)"
   ]
  },
  {
   "cell_type": "code",
   "execution_count": 120,
   "metadata": {
    "colab": {
     "base_uri": "https://localhost:8080/",
     "height": 35
    },
    "colab_type": "code",
    "id": "5bZcLvgxGnxs",
    "outputId": "83415036-e9e1-47e6-c81a-3350c9ef1c27"
   },
   "outputs": [
    {
     "name": "stdout",
     "output_type": "stream",
     "text": [
      "(1, 3, 50)\n"
     ]
    }
   ],
   "source": [
    "# Average every dv values across each (seed, metric)\n",
    "dv = 1000\n",
    "training = training.reshape(len(files), 3, -1, dv).mean(axis=3)\n",
    "print(training.shape)"
   ]
  },
  {
   "cell_type": "code",
   "execution_count": 121,
   "metadata": {
    "colab": {
     "base_uri": "https://localhost:8080/",
     "height": 53
    },
    "colab_type": "code",
    "id": "oXEQEMS2GnyS",
    "outputId": "25a38a7c-39b6-4aa6-c563-fabaa8841fa2"
   },
   "outputs": [
    {
     "name": "stdout",
     "output_type": "stream",
     "text": [
      "(3, 50)\n",
      "(3, 50)\n"
     ]
    }
   ],
   "source": [
    "# Average the seeds\n",
    "training_mean = training.mean(axis=0)\n",
    "training_std = training.std(axis=0)\n",
    "print(training_mean.shape)\n",
    "print(training_std.shape)"
   ]
  },
  {
   "cell_type": "code",
   "execution_count": 122,
   "metadata": {
    "colab": {
     "base_uri": "https://localhost:8080/",
     "height": 352
    },
    "colab_type": "code",
    "id": "U6-4yT8kGnys",
    "outputId": "0b04e291-5ba8-4c8c-cf1b-32f747dbc94b",
    "scrolled": true
   },
   "outputs": [
    {
     "data": {
      "image/png": "[encoded data removed]",
      "text/plain": [
       "<matplotlib.figure.Figure at 0x7fd29c657128>"
      ]
     },
     "metadata": {},
     "output_type": "display_data"
    }
   ],
   "source": [
    "fig = plt.figure(figsize=(12, 5))\n",
    "\n",
    "# X axis is normalized to thousands\n",
    "x = np.arange(dv / 1000, (batch_num / 1000) + (dv / 1000), dv / 1000)\n",
    "\n",
    "# Plot the cost\n",
    "# plt.plot(x, training_mean[0], 'o-', linewidth=2, label='Cost')\n",
    "plt.errorbar(x, training_mean[0], yerr=training_std[0], fmt='o-', elinewidth=2, linewidth=2, label='Cost')\n",
    "plt.grid()\n",
    "plt.yticks(np.arange(0, training_mean[0][0]+5, 5))\n",
    "plt.ylabel('Cost per sequence (bits)')\n",
    "plt.xlabel('Sequence (thousands)')\n",
    "plt.title('Training Convergence', fontsize=16)\n",
    "\n",
    "ax = plt.axes([.57, .55, .25, .25], facecolor=(0.97, 0.97, 0.97))\n",
    "plt.title(\"BCELoss\")\n",
    "plt.plot(x, training_mean[1], 'r-', label='BCE Loss')\n",
    "plt.yticks(np.arange(0, training_mean[1][0]+0.2, 0.2))\n",
    "plt.grid()\n",
    "\n",
    "plt.show()"
   ]
  },
  {
   "cell_type": "code",
   "execution_count": 123,
   "metadata": {
    "colab": {
     "base_uri": "https://localhost:8080/",
     "height": 352
    },
    "colab_type": "code",
    "id": "nco0d0T6Gny4",
    "outputId": "92ef9a69-f705-4e64-b588-1be71960cbc9",
    "scrolled": true
   },
   "outputs": [
    {
     "data": {
      "image/png": "[encoded data removed]",
      "text/plain": [
       "<matplotlib.figure.Figure at 0x7fd29c62de48>"
      ]
     },
     "metadata": {},
     "output_type": "display_data"
    }
   ],
   "source": [
    "loss = history[0]['loss']\n",
    "cost = history[0]['cost']\n",
    "seq_lengths = history[0]['seq_lengths']\n",
    "\n",
    "unique_sls = set(seq_lengths)\n",
    "all_metric = list(zip(range(1, batch_num+1), seq_lengths, loss, cost))\n",
    "\n",
    "fig = plt.figure(figsize=(12, 5))\n",
    "plt.ylabel('Cost per sequence (bits)')\n",
    "plt.xlabel('Iteration (thousands)')\n",
    "plt.title('Training Convergence (Per Sequence Length)', fontsize=16)\n",
    "\n",
    "for sl in unique_sls:\n",
    "    sl_metrics = [i for i in all_metric if i[1] == sl]\n",
    "\n",
    "    x = [i[0] for i in sl_metrics]\n",
    "    y = [i[3] for i in sl_metrics]\n",
    "    \n",
    "    num_pts = len(x) // 50\n",
    "    total_pts = num_pts * 50\n",
    "    \n",
    "    x_mean = [i.mean()/1000 for i in np.split(np.array(x)[:total_pts], num_pts)]\n",
    "    y_mean = [i.mean() for i in np.split(np.array(y)[:total_pts], num_pts)]\n",
    "    \n",
    "    plt.plot(x_mean, y_mean, label='Seq-{}'.format(sl))\n",
    "\n",
    "#plt.yticks(np.arange(0, 5, 5))\n",
    "plt.legend(loc=0)\n",
    "plt.show()"
   ]
  },
  {
   "cell_type": "markdown",
   "metadata": {
    "colab_type": "text",
    "collapsed": true,
    "id": "Dia8al7wGnzT"
   },
   "source": [
    "# Evaluate"
   ]
  },
  {
   "cell_type": "code",
   "execution_count": 124,
   "metadata": {
    "colab": {},
    "colab_type": "code",
    "id": "9tPYixptGnz1"
   },
   "outputs": [],
   "source": [
    "import torch\n",
    "from IPython.display import Image as IPythonImage\n",
    "from PIL import Image, ImageDraw, ImageFont\n",
    "import io\n",
    "from tasks.prioritysort import dataloader\n",
    "from train import evaluate"
   ]
  },
  {
   "cell_type": "code",
   "execution_count": 125,
   "metadata": {
    "colab": {},
    "colab_type": "code",
    "id": "xos4G48jGn0L"
   },
   "outputs": [],
   "source": [
    "from tasks.prioritysort import PrioritySortTaskModelTraining, PrioritySortTaskParams\n",
    "params = PrioritySortTaskParams()\n",
    "params.sequence_width=seq_num_bits\n",
    "params.sequence_max_length=seq_len\n",
    "model = PrioritySortTaskModelTraining(params)"
   ]
  },
  {
   "cell_type": "code",
   "execution_count": 126,
   "metadata": {
    "colab": {},
    "colab_type": "code",
    "id": "c9P2b3CcGn0U"
   },
   "outputs": [],
   "source": [
    "model.net.load_state_dict(torch.load(\"./../results/priority-sort/priority-sort-task-{}-batch-{}.model\".format(seed, batch_num)))"
   ]
  },
  {
   "cell_type": "code",
   "execution_count": 127,
   "metadata": {
    "colab": {},
    "colab_type": "code",
    "id": "N-TuK0UyGn0i"
   },
   "outputs": [],
   "source": [
    "_, x, y = next(iter(dataloader(1, 1, seq_len, seq_num_bits)))\n",
    "result = evaluate(model.net, model.criterion, x, y)\n",
    "y_out = result['y_out']"
   ]
  },
  {
   "cell_type": "code",
   "execution_count": 128,
   "metadata": {
    "colab": {},
    "colab_type": "code",
    "id": "zp0OJ_dOGn1G"
   },
   "outputs": [],
   "source": [
    "def cmap(value):\n",
    "    pixval = value * 255\n",
    "    low = 64\n",
    "    high = 240\n",
    "    factor = (255 - low - (255-high)) / 255\n",
    "    return int(low + pixval * factor)\n",
    "\n",
    "def draw_sequence(y, u=12):\n",
    "    seq_len = y.size(0)\n",
    "    seq_width = y.size(2)\n",
    "    inset = u // 8\n",
    "    pad = u // 2\n",
    "    width = seq_len * u + 2 * pad\n",
    "    height = seq_width * u + 2 * pad\n",
    "    im = Image.new('L', (width, height))\n",
    "    draw = ImageDraw.ImageDraw(im)\n",
    "    draw.rectangle([0, 0, width, height], fill=250)\n",
    "    for i in range(seq_len):\n",
    "        for j in range(seq_width):\n",
    "            val = 1 - y[i, 0, j].item()\n",
    "            draw.rectangle([pad + i*u + inset,\n",
    "                            pad + j*u + inset,\n",
    "                            pad + (i+1)*u - inset,\n",
    "                            pad + (j+1)*u - inset], fill=cmap(val))\n",
    "\n",
    "    return im\n",
    "\n",
    "def im_to_png_bytes(im):\n",
    "    png = io.BytesIO()\n",
    "    im.save(png, 'PNG')\n",
    "    return bytes(png.getbuffer())\n",
    "\n",
    "def im_vconcat(im1, im2, pad=8):\n",
    "    assert im1.size == im2.size\n",
    "    w, h = im1.size\n",
    "\n",
    "    width = w\n",
    "    height = h * 2 + pad\n",
    "\n",
    "    im = Image.new('L', (width, height), color=255)\n",
    "    im.paste(im1, (0, 0))\n",
    "    im.paste(im2, (0, h+pad))\n",
    "    return im"
   ]
  },
  {
   "cell_type": "markdown",
   "metadata": {},
   "source": [
    "### We then show the difference between the target sequence (list of binary segment orderd by priority) and the output sequence generated by the NTM"
   ]
  },
  {
   "cell_type": "code",
   "execution_count": 129,
   "metadata": {
    "colab": {
     "base_uri": "https://localhost:8080/",
     "height": 197
    },
    "colab_type": "code",
    "id": "wxGjYL1rGn1q",
    "outputId": "14afe1e8-1f57-4579-c24c-d8d37245c56c"
   },
   "outputs": [
    {
     "data": {
      "image/png": "[encoded data removed]",
      "text/plain": [
       "<IPython.core.display.Image object>"
      ]
     },
     "execution_count": 129,
     "metadata": {},
     "output_type": "execute_result"
    }
   ],
   "source": [
    "def make_eval_plot(y, y_out, u=12):\n",
    "    im_y = draw_sequence(y, u)\n",
    "    im_y_out = draw_sequence(y_out, u)\n",
    "    im = im_vconcat(im_y, im_y_out, u//2)\n",
    "    \n",
    "    w, h = im.size\n",
    "    pad_w = u * 7\n",
    "    im2 = Image.new('L', (w+pad_w, h), color=255)\n",
    "    im2.paste(im, (pad_w, 0))\n",
    "    \n",
    "    # Add text\n",
    "    font = ImageFont.truetype(\"./fonts/PT_Sans-Web-Regular.ttf\", 13)\n",
    "    draw = ImageDraw.ImageDraw(im2)\n",
    "    draw.text((u,4*u), \"Targets\", font=font)\n",
    "    draw.text((u,13*u), \"Outputs\", font=font)\n",
    "    \n",
    "    return im2\n",
    "\n",
    "im = make_eval_plot(y, y_out)\n",
    "IPythonImage(im_to_png_bytes(im))"
   ]
  },
  {
   "cell_type": "markdown",
   "metadata": {
    "colab_type": "text",
    "id": "fO4XM4q3Gn2b"
   },
   "source": [
    "## Create an animated GIF\n",
    "\n",
    "Lets see how the prediction looks like in each checkpoint that we saved. "
   ]
  },
  {
   "cell_type": "code",
   "execution_count": 130,
   "metadata": {
    "colab": {},
    "colab_type": "code",
    "id": "lcXUXnzdGn2j"
   },
   "outputs": [],
   "source": [
    "_, x, y = next(iter(dataloader(1, 1, seq_len, seq_tot_bits)))\n",
    "\n",
    "frames = []\n",
    "font = ImageFont.truetype(\"./fonts/PT_Sans-Web-Regular.ttf\", 13)\n",
    "for batch_num in range(5000, 50000, 5000):\n",
    "    model = PrioritySortTaskModelTraining()\n",
    "    model.net.load_state_dict(torch.load(\"./../results/priority-sort/priority-sort-task-10-batch-{}.model\".format(batch_num)))\n",
    "    result = evaluate(model.net, model.criterion, x, y)\n",
    "    y_out = result['y_out']\n",
    "    frame = make_eval_plot(y, y_out, u=10)\n",
    "    \n",
    "    w, h = frame.size\n",
    "    frame_seq = Image.new('L', (w, h+40), color=255)\n",
    "    frame_seq.paste(frame, (0, 40))\n",
    "    \n",
    "    draw = ImageDraw.ImageDraw(frame_seq)\n",
    "    draw.text((10, 10), \"Sequence Num: {} (Cost: {})\".format(batch_num, result['cost']), font=font)\n",
    "    \n",
    "    frames += [frame_seq]"
   ]
  },
  {
   "cell_type": "code",
   "execution_count": 131,
   "metadata": {
    "colab": {},
    "colab_type": "code",
    "id": "g-ReuvFrGn2-"
   },
   "outputs": [],
   "source": [
    "im = frames[0]\n",
    "frames[0].save(\"../images/priority-sort-train-80.gif\", format=\"GIF\", save_all=True, append_images=frames[1:], loop=0, duration=1000)\n",
    "\n",
    "im = frames[0]\n",
    "frames[0].save(\"../images/priority-sort-train-80-fast.gif\", format=\"GIF\", save_all=True, append_images=frames[1:], loop=0, duration=100)"
   ]
  },
  {
   "cell_type": "markdown",
   "metadata": {
    "colab_type": "text",
    "id": "UV2XtTonAxii"
   },
   "source": [
    "We then show the result by showing the gif:"
   ]
  },
  {
   "cell_type": "code",
   "execution_count": 132,
   "metadata": {
    "colab": {
     "base_uri": "https://localhost:8080/",
     "height": 34,
     "resources": {
      "http://localhost:8080/priority-sort-train-80-fast.gif": {
       "data": "CjwhRE9DVFlQRSBodG1sPgo8aHRtbCBsYW5nPWVuPgogIDxtZXRhIGNoYXJzZXQ9dXRmLTg+CiAgPG1ldGEgbmFtZT12aWV3cG9ydCBjb250ZW50PSJpbml0aWFsLXNjYWxlPTEsIG1pbmltdW0tc2NhbGU9MSwgd2lkdGg9ZGV2aWNlLXdpZHRoIj4KICA8dGl0bGU+RXJyb3IgNDA0IChOb3QgRm91bmQpISExPC90aXRsZT4KICA8c3R5bGU+CiAgICAqe21hcmdpbjowO3BhZGRpbmc6MH1odG1sLGNvZGV7Zm9udDoxNXB4LzIycHggYXJpYWwsc2Fucy1zZXJpZn1odG1se2JhY2tncm91bmQ6I2ZmZjtjb2xvcjojMjIyO3BhZGRpbmc6MTVweH1ib2R5e21hcmdpbjo3JSBhdXRvIDA7bWF4LXdpZHRoOjM5MHB4O21pbi1oZWlnaHQ6MTgwcHg7cGFkZGluZzozMHB4IDAgMTVweH0qID4gYm9keXtiYWNrZ3JvdW5kOnVybCgvL3d3dy5nb29nbGUuY29tL2ltYWdlcy9lcnJvcnMvcm9ib3QucG5nKSAxMDAlIDVweCBuby1yZXBlYXQ7cGFkZGluZy1yaWdodDoyMDVweH1we21hcmdpbjoxMXB4IDAgMjJweDtvdmVyZmxvdzpoaWRkZW59aW5ze2NvbG9yOiM3Nzc7dGV4dC1kZWNvcmF0aW9uOm5vbmV9YSBpbWd7Ym9yZGVyOjB9QG1lZGlhIHNjcmVlbiBhbmQgKG1heC13aWR0aDo3NzJweCl7Ym9keXtiYWNrZ3JvdW5kOm5vbmU7bWFyZ2luLXRvcDowO21heC13aWR0aDpub25lO3BhZGRpbmctcmlnaHQ6MH19I2xvZ297YmFja2dyb3VuZDp1cmwoLy93d3cuZ29vZ2xlLmNvbS9pbWFnZXMvbG9nb3MvZXJyb3JwYWdlL2Vycm9yX2xvZ28tMTUweDU0LnBuZykgbm8tcmVwZWF0O21hcmdpbi1sZWZ0Oi01cHh9QG1lZGlhIG9ubHkgc2NyZWVuIGFuZCAobWluLXJlc29sdXRpb246MTkyZHBpKXsjbG9nb3tiYWNrZ3JvdW5kOnVybCgvL3d3dy5nb29nbGUuY29tL2ltYWdlcy9sb2dvcy9lcnJvcnBhZ2UvZXJyb3JfbG9nby0xNTB4NTQtMngucG5nKSBuby1yZXBlYXQgMCUgMCUvMTAwJSAxMDAlOy1tb3otYm9yZGVyLWltYWdlOnVybCgvL3d3dy5nb29nbGUuY29tL2ltYWdlcy9sb2dvcy9lcnJvcnBhZ2UvZXJyb3JfbG9nby0xNTB4NTQtMngucG5nKSAwfX1AbWVkaWEgb25seSBzY3JlZW4gYW5kICgtd2Via2l0LW1pbi1kZXZpY2UtcGl4ZWwtcmF0aW86Mil7I2xvZ297YmFja2dyb3VuZDp1cmwoLy93d3cuZ29vZ2xlLmNvbS9pbWFnZXMvbG9nb3MvZXJyb3JwYWdlL2Vycm9yX2xvZ28tMTUweDU0LTJ4LnBuZykgbm8tcmVwZWF0Oy13ZWJraXQtYmFja2dyb3VuZC1zaXplOjEwMCUgMTAwJX19I2xvZ297ZGlzcGxheTppbmxpbmUtYmxvY2s7aGVpZ2h0OjU0cHg7d2lkdGg6MTUwcHh9CiAgPC9zdHlsZT4KICA8YSBocmVmPS8vd3d3Lmdvb2dsZS5jb20vPjxzcGFuIGlkPWxvZ28gYXJpYS1sYWJlbD1Hb29nbGU+PC9zcGFuPjwvYT4KICA8cD48Yj40MDQuPC9iPiA8aW5zPlRoYXTigJlzIGFuIGVycm9yLjwvaW5zPgogIDxwPiAgPGlucz5UaGF04oCZcyBhbGwgd2Uga25vdy48L2lucz4K",
       "headers": [
        [
         "content-length",
         "1449"
        ],
        [
         "content-type",
         "text/html; charset=utf-8"
        ]
       ],
       "ok": false,
       "status": 404,
       "status_text": ""
      }
     }
    },
    "colab_type": "code",
    "id": "DOaVZRn-AClE",
    "outputId": "fee04295-1a78-4978-e2ea-35e7e8b46ae8"
   },
   "outputs": [
    {
     "data": {
      "text/html": [
       "<img src=\"../images/priority-sort-train-80-fast.gif\"/>"
      ],
      "text/plain": [
       "<IPython.core.display.Image object>"
      ]
     },
     "metadata": {},
     "output_type": "display_data"
    }
   ],
   "source": [
    "from IPython.display import Image\n",
    "from IPython.display import display\n",
    "display(Image(url='../images/priority-sort-train-80-fast.gif'))"
   ]
  },
  {
   "cell_type": "code",
   "execution_count": null,
   "metadata": {},
   "outputs": [],
   "source": []
  },
  {
   "cell_type": "markdown",
   "metadata": {},
   "source": [
    "![](../images/priority-sort-train-80-fast.gif \"segment\")"
   ]
  }
 ],
 "metadata": {
  "accelerator": "GPU",
  "colab": {
   "collapsed_sections": [],
   "name": "priority-sort-task-plots.ipynb",
   "provenance": [],
   "version": "0.3.2"
  },
  "kernelspec": {
   "display_name": "Python 3",
   "language": "python",
   "name": "python3"
  },
  "language_info": {
   "codemirror_mode": {
    "name": "ipython",
    "version": 3
   },
   "file_extension": ".py",
   "mimetype": "text/x-python",
   "name": "python",
   "nbconvert_exporter": "python",
   "pygments_lexer": "ipython3",
   "version": "3.5.2"
  }
 },
 "nbformat": 4,
 "nbformat_minor": 1
}
